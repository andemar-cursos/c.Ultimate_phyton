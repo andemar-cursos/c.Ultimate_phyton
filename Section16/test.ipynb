{
 "cells": [
  {
   "cell_type": "code",
   "execution_count": 140,
   "id": "4118e78c-5ce3-4837-a027-77658f6e6b8c",
   "metadata": {},
   "outputs": [
    {
     "data": {
      "text/plain": [
       "1.0"
      ]
     },
     "execution_count": 140,
     "metadata": {},
     "output_type": "execute_result"
    }
   ],
   "source": [
    "import pandas as p\n",
    "from sklearn.tree import DecisionTreeClassifier\n",
    "from sklearn.model_selection import train_test_split\n",
    "from sklearn.metrics import accuracy_score\n",
    "\n",
    "data_juegos = p.read_csv(\"juegos-ml.csv\")\n",
    "X = data_juegos.drop(columns=[\"juegos\"])\n",
    "Y = data_juegos[\"juegos\"]\n",
    "X_train, X_test, Y_train, Y_test = train_test_split(X.values, Y, test_size=0.2)\n",
    "\n",
    "\n",
    "modelo = DecisionTreeClassifier()\n",
    "modelo.fit(X_train, Y_train)\n",
    "predicciones = modelo.predict(X_test)\n",
    "\n",
    "puntaje = accuracy_score(Y_test, predicciones)\n",
    "puntaje"
   ]
  },
  {
   "cell_type": "code",
   "execution_count": 22,
   "id": "128132de-11f3-4eaa-966d-6e08ebfbda86",
   "metadata": {},
   "outputs": [
    {
     "data": {
      "text/plain": [
       "array(['fps', 'jrpg', 'accion'], dtype=object)"
      ]
     },
     "execution_count": 22,
     "metadata": {},
     "output_type": "execute_result"
    }
   ],
   "source": []
  },
  {
   "cell_type": "code",
   "execution_count": null,
   "id": "8ff1d8f3-090d-4927-9fb1-b3086ace423c",
   "metadata": {},
   "outputs": [],
   "source": []
  }
 ],
 "metadata": {
  "kernelspec": {
   "display_name": "Python 3 (ipykernel)",
   "language": "python",
   "name": "python3"
  },
  "language_info": {
   "codemirror_mode": {
    "name": "ipython",
    "version": 3
   },
   "file_extension": ".py",
   "mimetype": "text/x-python",
   "name": "python",
   "nbconvert_exporter": "python",
   "pygments_lexer": "ipython3",
   "version": "3.12.4"
  }
 },
 "nbformat": 4,
 "nbformat_minor": 5
}
